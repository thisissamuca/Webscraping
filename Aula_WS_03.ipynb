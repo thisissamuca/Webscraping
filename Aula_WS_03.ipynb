{
  "nbformat": 4,
  "nbformat_minor": 0,
  "metadata": {
    "colab": {
      "name": "Aula_WS_03.ipynb",
      "provenance": [],
      "collapsed_sections": [],
      "authorship_tag": "ABX9TyOsBBYLY2l4BA9wWN1Zoul3",
      "include_colab_link": true
    },
    "kernelspec": {
      "name": "python3",
      "display_name": "Python 3"
    },
    "language_info": {
      "name": "python"
    }
  },
  "cells": [
    {
      "cell_type": "markdown",
      "metadata": {
        "id": "view-in-github",
        "colab_type": "text"
      },
      "source": [
        "<a href=\"https://colab.research.google.com/github/thisissamuca/Webscraping/blob/main/Aula_WS_03.ipynb\" target=\"_parent\"><img src=\"https://colab.research.google.com/assets/colab-badge.svg\" alt=\"Open In Colab\"/></a>"
      ]
    },
    {
      "cell_type": "markdown",
      "source": [
        "# **WebScraping para obtenção de Imagens - part 3**"
      ],
      "metadata": {
        "id": "0qkDsE5nnKXc"
      }
    },
    {
      "cell_type": "markdown",
      "source": [
        "## **Instalando bibliotecas**"
      ],
      "metadata": {
        "id": "9DdVHGkqnUaY"
      }
    },
    {
      "cell_type": "code",
      "source": [
        "pip install requests"
      ],
      "metadata": {
        "colab": {
          "base_uri": "https://localhost:8080/"
        },
        "id": "qsw1F6OXndfB",
        "outputId": "f5843491-d260-4e19-b775-031fe3f34183"
      },
      "execution_count": 1,
      "outputs": [
        {
          "output_type": "stream",
          "name": "stdout",
          "text": [
            "Looking in indexes: https://pypi.org/simple, https://us-python.pkg.dev/colab-wheels/public/simple/\n",
            "Requirement already satisfied: requests in /usr/local/lib/python3.7/dist-packages (2.23.0)\n",
            "Requirement already satisfied: idna<3,>=2.5 in /usr/local/lib/python3.7/dist-packages (from requests) (2.10)\n",
            "Requirement already satisfied: certifi>=2017.4.17 in /usr/local/lib/python3.7/dist-packages (from requests) (2022.6.15)\n",
            "Requirement already satisfied: chardet<4,>=3.0.2 in /usr/local/lib/python3.7/dist-packages (from requests) (3.0.4)\n",
            "Requirement already satisfied: urllib3!=1.25.0,!=1.25.1,<1.26,>=1.21.1 in /usr/local/lib/python3.7/dist-packages (from requests) (1.24.3)\n"
          ]
        }
      ]
    },
    {
      "cell_type": "code",
      "source": [
        "pip install beautifulsoup4"
      ],
      "metadata": {
        "colab": {
          "base_uri": "https://localhost:8080/"
        },
        "id": "7R62gBt4ngJV",
        "outputId": "c7e60704-0528-4921-db88-ff9ea5fdea19"
      },
      "execution_count": 2,
      "outputs": [
        {
          "output_type": "stream",
          "name": "stdout",
          "text": [
            "Looking in indexes: https://pypi.org/simple, https://us-python.pkg.dev/colab-wheels/public/simple/\n",
            "Requirement already satisfied: beautifulsoup4 in /usr/local/lib/python3.7/dist-packages (4.6.3)\n"
          ]
        }
      ]
    },
    {
      "cell_type": "code",
      "source": [
        "pip install wikipedia"
      ],
      "metadata": {
        "id": "j1kPsybVniu1",
        "colab": {
          "base_uri": "https://localhost:8080/"
        },
        "outputId": "22adabac-79e9-40ce-a11f-61204e659362"
      },
      "execution_count": null,
      "outputs": [
        {
          "output_type": "stream",
          "name": "stdout",
          "text": [
            "Looking in indexes: https://pypi.org/simple, https://us-python.pkg.dev/colab-wheels/public/simple/\n",
            "Requirement already satisfied: wikipedia in /usr/local/lib/python3.7/dist-packages (1.4.0)\n",
            "Requirement already satisfied: requests<3.0.0,>=2.0.0 in /usr/local/lib/python3.7/dist-packages (from wikipedia) (2.23.0)\n",
            "Requirement already satisfied: beautifulsoup4 in /usr/local/lib/python3.7/dist-packages (from wikipedia) (4.6.3)\n",
            "Requirement already satisfied: certifi>=2017.4.17 in /usr/local/lib/python3.7/dist-packages (from requests<3.0.0,>=2.0.0->wikipedia) (2022.6.15)\n",
            "Requirement already satisfied: idna<3,>=2.5 in /usr/local/lib/python3.7/dist-packages (from requests<3.0.0,>=2.0.0->wikipedia) (2.10)\n",
            "Requirement already satisfied: urllib3!=1.25.0,!=1.25.1,<1.26,>=1.21.1 in /usr/local/lib/python3.7/dist-packages (from requests<3.0.0,>=2.0.0->wikipedia) (1.25.11)\n",
            "Requirement already satisfied: chardet<4,>=3.0.2 in /usr/local/lib/python3.7/dist-packages (from requests<3.0.0,>=2.0.0->wikipedia) (3.0.4)\n"
          ]
        }
      ]
    },
    {
      "cell_type": "markdown",
      "source": [
        "## **Importando bibliotecas necessárias**"
      ],
      "metadata": {
        "id": "WJBJRaTKnYAk"
      }
    },
    {
      "cell_type": "code",
      "execution_count": 3,
      "metadata": {
        "id": "dN_aT7lvfAiw"
      },
      "outputs": [],
      "source": [
        "#import wikipedia\n",
        "import requests\n",
        "import json\n",
        "import pandas as pd\n",
        "from bs4 import BeautifulSoup\n",
        "import random\n",
        "import time\n",
        "import re\n",
        "import time\n",
        "import urllib.request\n",
        "import sys\n",
        "from urllib.request import Request, urlopen\n",
        "from google.colab import drive\n",
        "# import pyautogui"
      ]
    },
    {
      "cell_type": "code",
      "source": [
        "# Criando integração com o google drive\n",
        "\n",
        "drive.mount('/content/drive')"
      ],
      "metadata": {
        "id": "q-ejo6FunoeX",
        "colab": {
          "base_uri": "https://localhost:8080/"
        },
        "outputId": "439f1e79-d052-45a9-be96-c075bc52ea5c"
      },
      "execution_count": 593,
      "outputs": [
        {
          "output_type": "stream",
          "name": "stdout",
          "text": [
            "Drive already mounted at /content/drive; to attempt to forcibly remount, call drive.mount(\"/content/drive\", force_remount=True).\n"
          ]
        }
      ]
    },
    {
      "cell_type": "code",
      "source": [
        "# Criando listas\n",
        "\n",
        "photos = []\n",
        "lista = []\n",
        "htmls = []\n",
        "sopa = []\n",
        "tags = []\n",
        "texts = []\n",
        "title = []\n",
        "img = []\n",
        "photo = []\n",
        "name = []\n",
        "\n",
        "photos.clear()\n",
        "lista.clear()\n",
        "htmls.clear()\n",
        "sopa.clear()\n",
        "tags.clear()\n",
        "texts.clear()\n",
        "title.clear()\n",
        "img.clear()\n",
        "photo.clear()\n",
        "name.clear()"
      ],
      "metadata": {
        "id": "FDo_hHy7UvYR"
      },
      "execution_count": 680,
      "outputs": []
    },
    {
      "cell_type": "code",
      "source": [
        "# Laço para armazenar os endereços dos sites das imagens\n",
        "# O intervalo pode ser definido em qualquer intervalo que queira\n",
        "\n",
        "for index in range (1162730, 1162745):\n",
        "    \n",
        "  endereco = f'https://www.mindat.org/photo-{index}.html'\n",
        "\n",
        "  photos.append(endereco)\n",
        "\n",
        "# Criando um laço para armazenar a requisição de cada endereço\n",
        "\n",
        "  for url in range (0, len(photos)):\n",
        "\n",
        "    requisition = Request(photos[url], headers={'User-Agent': 'Mozilla/5.0'})\n",
        "\n",
        "    lista.append(requisition)"
      ],
      "metadata": {
        "id": "z0-NaUWo6aSd"
      },
      "execution_count": 681,
      "outputs": []
    },
    {
      "cell_type": "code",
      "source": [
        "# Criando um laço para armazenar o html de cada página requisitada\n",
        "\n",
        "for req in range (0, len(lista)):\n",
        "\n",
        "  try:\n",
        "\n",
        "    webpage = urlopen(lista[req],timeout=20).read()\n",
        "\n",
        "    htmls.append(repr(webpage))\n",
        "\n",
        "  except:\n",
        "    \n",
        "    pass"
      ],
      "metadata": {
        "id": "mcbC3yMyXH2w"
      },
      "execution_count": 682,
      "outputs": []
    },
    {
      "cell_type": "code",
      "source": [
        "# Criando um laço para armazenar os dados da página HTML na 'sopa'\n",
        "\n",
        "for html in range (0, len(htmls)):\n",
        "\n",
        "  soup = BeautifulSoup(htmls[html], 'html.parser')\n",
        "\n",
        "  sopa.append(soup)"
      ],
      "metadata": {
        "id": "fAieC4bnaCMO"
      },
      "execution_count": 683,
      "outputs": []
    },
    {
      "cell_type": "code",
      "source": [
        "# Criando um laço para selecionar os elementos e estruturas HTML que precisamos\n",
        "\n",
        "for i in range (0, len(sopa)):\n",
        "\n",
        "  img_tag = repr(sopa[i].find(id=\"mainphoto\"))\n",
        "  tags.append(img_tag)\n",
        "\n",
        "  text = sopa[i].find_all('a')\n",
        "  texts.append(text)"
      ],
      "metadata": {
        "id": "ku0iKiQXZ1r2"
      },
      "execution_count": 684,
      "outputs": []
    },
    {
      "cell_type": "code",
      "source": [
        "# Criando um laço para filtrar as informações necessárias que precisamos\n",
        "\n",
        "for j in range (0, len(texts)):\n",
        "  title.append(texts[j][1].text)\n",
        "\n",
        "for k in range (0, len(tags)):\n",
        "  img.append(tags[k])\n",
        "\n",
        "set_title = list(title)\n",
        "set_img = list(img)"
      ],
      "metadata": {
        "id": "cayuRocwe1Dm"
      },
      "execution_count": 685,
      "outputs": []
    },
    {
      "cell_type": "code",
      "source": [
        "# Criando um dataframe para melhorar a visualização e a manipulação dos dados\n",
        "\n",
        "df = pd.DataFrame((zip(set_title, set_img)), columns = ['Name', 'Url']).drop_duplicates()\n",
        "\n",
        "list_df = df.values.tolist()\n",
        "\n",
        "#df.shape[0]"
      ],
      "metadata": {
        "id": "6IwPwKf_2g0M"
      },
      "execution_count": 686,
      "outputs": []
    },
    {
      "cell_type": "code",
      "source": [
        "# Criando um laço para filtrar totalmente os dados e manter somente aquilo que queremos\n",
        "\n",
        "for r in range (0, df.shape[0]):\n",
        "\n",
        "  if re.search(r'photos', list_df[r][1]):\n",
        "\n",
        "    alt_01b = re.sub(r'.*src=\"', 'https://www.mindat.org/', list_df[r][1], count=1)\n",
        "    alt_02b = re.sub(r'\" style=\"\\\\\\'opacity:\"/>*', '', alt_01b, count=1)\n",
        "    name.append(list_df[r][0])\n",
        "    photo.append(alt_02b)\n",
        "\n",
        "  elif re.search(r'imagecache', list_df[r][1]):\n",
        "\n",
        "    alt_01a = re.sub(r'.*src=\"', 'https://www.mindat.org', list_df[r][1], count=1)\n",
        "    alt_02a = re.sub(r'\" style=\"\\\\\\'opacity:\"/>*', '', alt_01a, count=1)\n",
        "    name.append(list_df[r][0])\n",
        "    photo.append(alt_02a)"
      ],
      "metadata": {
        "id": "XUEl6tKx4wdU"
      },
      "execution_count": 687,
      "outputs": []
    },
    {
      "cell_type": "code",
      "source": [
        "# Criando um dataframe para melhorar a visualização e a manipulação dos dados\n",
        "\n",
        "df02 = pd.DataFrame((zip(name, photo)), columns = ['Name', 'Url'])\n",
        "\n",
        "list_df02 = df02.values.tolist()"
      ],
      "metadata": {
        "id": "nu8_4_3T6mXG"
      },
      "execution_count": 688,
      "outputs": []
    },
    {
      "cell_type": "code",
      "source": [
        "# Criando um laço para baixar as imagens e colocar IDS únicos em cada uma\n",
        "\n",
        "for n in range (0, len(list_df02)):\n",
        "\n",
        "  try:\n",
        "\n",
        "    sub = re.sub(r'.jpg', '', list_df02[n][1], count=1)[-7::]\n",
        "\n",
        "    urllib.request.urlretrieve(f'{list_df02[n][1]}', f'drive/MyDrive/PHOTOS_EAIPI/EAIPI_{list_df02[n][0]}_{sub}.jpg')\n",
        "\n",
        "  except:\n",
        "\n",
        "    #erro = sys.exc_info()\n",
        "\n",
        "    #print(\"Ocorreu um erro:\", erro)\n",
        "\n",
        "    pass"
      ],
      "metadata": {
        "id": "miPcySvyWY9P"
      },
      "execution_count": 689,
      "outputs": []
    }
  ]
}