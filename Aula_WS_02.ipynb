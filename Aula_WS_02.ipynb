{
  "cells": [
    {
      "cell_type": "markdown",
      "metadata": {
        "id": "view-in-github",
        "colab_type": "text"
      },
      "source": [
        "<a href=\"https://colab.research.google.com/github/thisissamuca/Webscraping/blob/main/Aula_WS_02.ipynb\" target=\"_parent\"><img src=\"https://colab.research.google.com/assets/colab-badge.svg\" alt=\"Open In Colab\"/></a>"
      ]
    },
    {
      "cell_type": "markdown",
      "metadata": {
        "id": "Ol50FYiMe-29"
      },
      "source": [
        "# **WebScraping para obtenção de Imagens - part 2**"
      ]
    },
    {
      "cell_type": "markdown",
      "metadata": {
        "id": "68VYG96nh6sw"
      },
      "source": [
        "## **Instalando bibliotecas**"
      ]
    },
    {
      "cell_type": "code",
      "execution_count": null,
      "metadata": {
        "id": "HzIZ2YmHf1YR"
      },
      "outputs": [],
      "source": [
        "pip install requests"
      ]
    },
    {
      "cell_type": "code",
      "execution_count": null,
      "metadata": {
        "id": "cKSvdONgf1BV"
      },
      "outputs": [],
      "source": [
        "pip install beautifulsoup4"
      ]
    },
    {
      "cell_type": "code",
      "execution_count": null,
      "metadata": {
        "colab": {
          "base_uri": "https://localhost:8080/"
        },
        "id": "725ahzc3e8lc",
        "outputId": "1d1e95ff-b8c3-4461-de42-af6f84971f29"
      },
      "outputs": [
        {
          "name": "stdout",
          "output_type": "stream",
          "text": [
            "Looking in indexes: https://pypi.org/simple, https://us-python.pkg.dev/colab-wheels/public/simple/\n",
            "Requirement already satisfied: wikipedia in /usr/local/lib/python3.7/dist-packages (1.4.0)\n",
            "Requirement already satisfied: requests<3.0.0,>=2.0.0 in /usr/local/lib/python3.7/dist-packages (from wikipedia) (2.23.0)\n",
            "Requirement already satisfied: beautifulsoup4 in /usr/local/lib/python3.7/dist-packages (from wikipedia) (4.6.3)\n",
            "Requirement already satisfied: urllib3!=1.25.0,!=1.25.1,<1.26,>=1.21.1 in /usr/local/lib/python3.7/dist-packages (from requests<3.0.0,>=2.0.0->wikipedia) (1.24.3)\n",
            "Requirement already satisfied: certifi>=2017.4.17 in /usr/local/lib/python3.7/dist-packages (from requests<3.0.0,>=2.0.0->wikipedia) (2022.6.15)\n",
            "Requirement already satisfied: chardet<4,>=3.0.2 in /usr/local/lib/python3.7/dist-packages (from requests<3.0.0,>=2.0.0->wikipedia) (3.0.4)\n",
            "Requirement already satisfied: idna<3,>=2.5 in /usr/local/lib/python3.7/dist-packages (from requests<3.0.0,>=2.0.0->wikipedia) (2.10)\n"
          ]
        }
      ],
      "source": [
        "pip install wikipedia"
      ]
    },
    {
      "cell_type": "markdown",
      "metadata": {
        "id": "T9WddUgfh3Ky"
      },
      "source": [
        "## **Importando bibliotecas necessárias**"
      ]
    },
    {
      "cell_type": "code",
      "execution_count": 1,
      "metadata": {
        "id": "WG3rWpgTgkyP"
      },
      "outputs": [],
      "source": [
        "import wikipedia\n",
        "import requests\n",
        "import json\n",
        "import pandas as pd\n",
        "from bs4 import BeautifulSoup\n",
        "import random\n",
        "import time\n",
        "import re"
      ]
    },
    {
      "cell_type": "markdown",
      "metadata": {
        "id": "51yq_J-YqKoe"
      },
      "source": [
        "# **Resumo da biblioteca Wikipedia**"
      ]
    },
    {
      "cell_type": "markdown",
      "metadata": {
        "id": "hdKu_Buphvo3"
      },
      "source": [
        "## **Obtendo o resumo de qualquer título**"
      ]
    },
    {
      "cell_type": "code",
      "execution_count": null,
      "metadata": {
        "colab": {
          "base_uri": "https://localhost:8080/",
          "height": 55
        },
        "id": "EgMGNqWWhTrM",
        "outputId": "a427677f-5362-41f4-9e2b-04abf261ac1a"
      },
      "outputs": [
        {
          "data": {
            "application/vnd.google.colaboratory.intrinsic+json": {
              "type": "string"
            },
            "text/plain": [
              "'In geology and mineralogy, a mineral or mineral species is, broadly speaking, a solid chemical compound with a fairly well-defined chemical composition and a specific crystal structure that occurs naturally in pure form.The geological definition of mineral normally excludes compounds that occur only in living beings.'"
            ]
          },
          "execution_count": 5,
          "metadata": {},
          "output_type": "execute_result"
        }
      ],
      "source": [
        "wikipedia.summary(\"Mineral\", sentences = 1)  "
      ]
    },
    {
      "cell_type": "markdown",
      "metadata": {
        "id": "-U1U5NG1hqhj"
      },
      "source": [
        "## **Pesquisando título e sugestões**"
      ]
    },
    {
      "cell_type": "code",
      "execution_count": null,
      "metadata": {
        "colab": {
          "base_uri": "https://localhost:8080/"
        },
        "id": "YXvKvngbhev-",
        "outputId": "a8b6bac5-1f73-476a-dde1-f6049de82ec4"
      },
      "outputs": [
        {
          "data": {
            "text/plain": [
              "['Mineral',\n",
              " 'Mineral oil',\n",
              " 'Mineral (nutrient)',\n",
              " 'Mineralization',\n",
              " 'Mineral wool']"
            ]
          },
          "execution_count": 14,
          "metadata": {},
          "output_type": "execute_result"
        }
      ],
      "source": [
        "wikipedia.search(\"Mineral\", results = 5) "
      ]
    },
    {
      "cell_type": "markdown",
      "metadata": {
        "id": "V23ysszJiOku"
      },
      "source": [
        "## **Obtendo dados completos da página da Wikipedia**"
      ]
    },
    {
      "cell_type": "code",
      "execution_count": null,
      "metadata": {
        "id": "F2Z1O_vahmEg"
      },
      "outputs": [],
      "source": [
        "page = wikipedia.page(\"Mineral\") \n",
        "\n",
        "#print(page.html) \n",
        "#print(page.original_title) \n",
        "#print(page.links[0:10]) "
      ]
    },
    {
      "cell_type": "markdown",
      "metadata": {
        "id": "SjMR5bY7iqHa"
      },
      "source": [
        "## **Alterando o idioma da página da Wikipedia**"
      ]
    },
    {
      "cell_type": "code",
      "execution_count": null,
      "metadata": {
        "id": "hwqRTauyisrs"
      },
      "outputs": [],
      "source": [
        "wikipedia.set_lang(\"pt\") \n",
        "\n",
        "wikipedia.summary(\"Mineral\", sentences = 1)  "
      ]
    },
    {
      "cell_type": "markdown",
      "metadata": {
        "id": "ou3CHOIWj24_"
      },
      "source": [
        "# **Obtendo imagens da página Wikipedia**"
      ]
    },
    {
      "cell_type": "code",
      "execution_count": 2,
      "metadata": {
        "id": "SFIrd88ayBwN"
      },
      "outputs": [],
      "source": [
        "# Chamando uma base de dados criada anteriormente\n",
        "\n",
        "df = pd.read_csv('links_minerals.csv')"
      ]
    },
    {
      "cell_type": "code",
      "execution_count": 15,
      "metadata": {
        "id": "2Ej4tLK5xFSX"
      },
      "outputs": [],
      "source": [
        "# Criando uma lista para armazenas as urls\n",
        "\n",
        "url_img = []\n",
        "\n",
        "url_img.clear()"
      ]
    },
    {
      "cell_type": "markdown",
      "metadata": {
        "id": "-CKel-KyTCtW"
      },
      "source": [
        "Agora precisamos criar um laço para obter os links em função dos nomes do nosso dataframe. Entretanto, precisaremos utilizar várias excessões:"
      ]
    },
    {
      "cell_type": "code",
      "execution_count": 16,
      "metadata": {
        "colab": {
          "base_uri": "https://localhost:8080/"
        },
        "id": "VJ0WuB8pKSI2",
        "outputId": "553ee063-ea50-4035-91c6-2eef9ab10a30"
      },
      "outputs": [
        {
          "output_type": "stream",
          "name": "stderr",
          "text": [
            "/usr/local/lib/python3.7/dist-packages/wikipedia/wikipedia.py:389: UserWarning: No parser was explicitly specified, so I'm using the best available HTML parser for this system (\"lxml\"). This usually isn't a problem, but if you run this code on another system, or in a different virtual environment, it may use a different parser and behave differently.\n",
            "\n",
            "The code that caused this warning is on line 389 of the file /usr/local/lib/python3.7/dist-packages/wikipedia/wikipedia.py. To get rid of this warning, pass the additional argument 'features=\"lxml\"' to the BeautifulSoup constructor.\n",
            "\n",
            "  lis = BeautifulSoup(html).find_all('li')\n"
          ]
        },
        {
          "output_type": "stream",
          "name": "stdout",
          "text": [
            "1201.880602836609\n"
          ]
        }
      ],
      "source": [
        "import time\n",
        "\n",
        "# Criando um laço para acessar as imagens de todos elementos da base de dados\n",
        "\n",
        "inicio = time.time()\n",
        "\n",
        "for name in df['name']:\n",
        "\n",
        "  try:\n",
        "    page = wikipedia.page(name, auto_suggest=False)\n",
        "    img = page.images\n",
        "    url_img.append(img)\n",
        "\n",
        "  except wikipedia.exceptions.PageError as e:\n",
        "    pass\n",
        "\n",
        "  except wikipedia.DisambiguationError as f:\n",
        "     for name in f.options:\n",
        "        try:\n",
        "          page = wikipedia.page(name)\n",
        "          img = page.images\n",
        "          url_img.append(img)\n",
        "\n",
        "        except wikipedia.exceptions.DisambiguationError as g:\n",
        "          pass\n",
        "\n",
        "        except wikipedia.exceptions.PageError as h:\n",
        "          pass\n",
        "\n",
        "        except KeyError as i:\n",
        "          pass\n",
        "\n",
        "  except:\n",
        "    pass\n",
        "\n",
        "fim = time.time()\n",
        "\n",
        "print(fim - inicio)\n",
        "\n",
        "#len(url_img)"
      ]
    },
    {
      "cell_type": "markdown",
      "metadata": {
        "id": "EWKbuBT2TWEk"
      },
      "source": [
        "### **Separando os links inúteis**\n",
        "\n",
        "Podemos fazer isso de duas formas. A primeira pode apresentar algumas limitações, no entanto pode ser mais vantajosa em alguns casos. Vamos separar uma lista de termos que não queremos, faremos isso seguindo uma lógica: os termos que separei eles se repetem ao longo dos objetos dentro da lista, todos eles tem o padrão de extensão .svg"
      ]
    },
    {
      "cell_type": "code",
      "execution_count": 17,
      "metadata": {
        "id": "w15sOC92z-Yl"
      },
      "outputs": [],
      "source": [
        "terms = [\n",
        "'https://upload.wikimedia.org/wikipedia/en/4/4a/Commons-logo.svg',\n",
        "'https://upload.wikimedia.org/wikipedia/commons/9/99/Wiktionary-logo-en-v2.svg',\n",
        "'https://upload.wikimedia.org/wikipedia/en/8/8a/OOjs_UI_icon_edit-ltr-progressive.svg',\n",
        "'https://upload.wikimedia.org/wikipedia/commons/4/4c/Wikisource-logo.svg',\n",
        "'https://upload.wikimedia.org/wikipedia/commons/a/a4/Text_document_with_red_question_mark.svg',\n",
        "'https://upload.wikimedia.org/wikipedia/en/d/db/Symbol_list_class.svg',\n",
        "'https://upload.wikimedia.org/wikipedia/commons/9/99/Wiktionary-logo-en-v2.svg',\n",
        "'https://upload.wikimedia.org/wikipedia/en/0/06/Wiktionary-logo-v2.svg',\n",
        "'https://upload.wikimedia.org/wikipedia/en/9/94/Symbol_support_vote.svg',\n",
        "'https://upload.wikimedia.org/wikipedia/en/9/96/Symbol_category_class.svg',\n",
        "'https://upload.wikimedia.org/wikipedia/en/1/1b/Semi-protection-shackle.svg',\n",
        "'https://upload.wikimedia.org/wikipedia/en/8/8a/OOjs_UI_icon_edit-ltr-progressive.svg',\n",
        "'https://upload.wikimedia.org/wikipedia/commons/0/0b/Wikiversity_logo_2017.svg',\n",
        "'https://upload.wikimedia.org/wikipedia/commons/e/ed/Papapishu-Lab-icon-6.svg',\n",
        "'https://upload.wikimedia.org/wikipedia/commons/8/8a/Loudspeaker.svg',\n",
        "'https://upload.wikimedia.org/wikipedia/commons/b/b5/Radioactive.svg',\n",
        "'https://upload.wikimedia.org/wikipedia/commons/4/47/Sound-icon.svg',\n",
        "'https://upload.wikimedia.org/wikipedia/en/9/99/Question_book-new.svg',\n",
        "'https://upload.wikimedia.org/wikipedia/en/f/f2/Edit-clear.svg',\n",
        "'https://upload.wikimedia.org/wikipedia/en/f/fb/Yes_check.svg',\n",
        "'https://upload.wikimedia.org/wikipedia/commons/d/dd/Wikivoyage-Logo-v3-icon.svg',\n",
        "'https://upload.wikimedia.org/wikipedia/en/6/62/PD-icon.svg',\n",
        "'https://upload.wikimedia.org/wikipedia/commons/f/fa/Wikibooks-logo.svg',\n",
        "'https://upload.wikimedia.org/wikipedia/commons/f/fa/Wikiquote-logo.svg',\n",
        "'https://upload.wikimedia.org/wikipedia/commons/2/24/Wikinews-logo.svg',\n",
        "'https://upload.wikimedia.org/wikipedia/commons/1/1c/Wiki_letter_w_cropped.svg',\n",
        "'https://upload.wikimedia.org/wikipedia/en/6/6c/Wiki_letter_w.svg',\n",
        "'https://upload.wikimedia.org/wikipedia/en/b/b4/Ambox_important.svg',\n",
        "'https://upload.wikimedia.org/wikipedia/commons/1/1b/Ambox_question.svg',\n",
        "'https://upload.wikimedia.org/wikipedia/commons/9/98/Ambox_current_red.svg',\n",
        "'https://upload.wikimedia.org/wikipedia/commons/9/96/Steady2.svg',\n",
        "'https://upload.wikimedia.org/wikipedia/commons/b/b0/Openstreetmap_logo.svg',\n",
        "'https://upload.wikimedia.org/wikipedia/commons/5/59/Increase_Negative.svg',\n",
        "'https://upload.wikimedia.org/wikipedia/commons/b/b0/Increase2.svg',\n",
        "'https://upload.wikimedia.org/wikipedia/commons/9/92/Decrease_Positive.svg',\n",
        "'https://upload.wikimedia.org/wikipedia/commons/e/ed/Decrease2.svg',\n",
        "'https://upload.wikimedia.org/wikipedia/commons/7/77/Flag_of_Algeria.svg',\n",
        "'https://upload.wikimedia.org/wikipedia/commons/1/1a/Flag_of_Argentina.svg',\n",
        "'https://upload.wikimedia.org/wikipedia/commons/8/88/Flag_of_Australia_%28converted%29.svg',\n",
        "'https://upload.wikimedia.org/wikipedia/commons/4/41/Flag_of_Austria.svg',\n",
        "'https://upload.wikimedia.org/wikipedia/commons/2/2c/Flag_of_Bahrain.svg',\n",
        "'https://upload.wikimedia.org/wikipedia/commons/9/92/Flag_of_Belgium_%28civil%29.svg',\n",
        "'https://upload.wikimedia.org/wikipedia/commons/9/9c/Flag_of_Brunei.svg',\n",
        "'https://upload.wikimedia.org/wikipedia/commons/9/9a/Flag_of_Bulgaria.svg',\n",
        "'https://upload.wikimedia.org/wikipedia/commons/d/d9/Flag_of_Canada_%28Pantone%29.svg',\n",
        "'https://upload.wikimedia.org/wikipedia/commons/7/78/Flag_of_Chile.svg',\n",
        "'https://upload.wikimedia.org/wikipedia/commons/2/21/Flag_of_Colombia.svg',\n",
        "'https://upload.wikimedia.org/wikipedia/commons/1/1b/Flag_of_Croatia.svg',\n",
        "'https://upload.wikimedia.org/wikipedia/commons/d/d4/Flag_of_Cyprus.svg',\n",
        "'https://upload.wikimedia.org/wikipedia/commons/9/9c/Flag_of_Denmark.svg',\n",
        "'https://upload.wikimedia.org/wikipedia/commons/3/34/Flag_of_Djibouti.svg',\n",
        "'https://upload.wikimedia.org/wikipedia/commons/f/fe/Flag_of_Egypt.svg',\n",
        "'https://upload.wikimedia.org/wikipedia/commons/8/8f/Flag_of_Estonia.svg',\n",
        "'https://upload.wikimedia.org/wikipedia/commons/b/bc/Flag_of_Finland.svg',\n",
        "'https://upload.wikimedia.org/wikipedia/commons/0/02/Flag_of_Gibraltar.svg',\n",
        "'https://upload.wikimedia.org/wikipedia/commons/5/5c/Flag_of_Greece.svg',\n",
        "'https://upload.wikimedia.org/wikipedia/commons/8/82/Flag_of_Honduras.svg',\n",
        "'https://upload.wikimedia.org/wikipedia/commons/c/c1/Flag_of_Hungary.svg',\n",
        "'https://upload.wikimedia.org/wikipedia/commons/c/ce/Flag_of_Iceland.svg',\n",
        "'https://upload.wikimedia.org/wikipedia/commons/f/f6/Flag_of_Iraq.svg',\n",
        "'https://upload.wikimedia.org/wikipedia/commons/4/45/Flag_of_Ireland.svg',\n",
        "'https://upload.wikimedia.org/wikipedia/commons/d/d4/Flag_of_Israel.svg',\n",
        "'https://upload.wikimedia.org/wikipedia/commons/c/c0/Flag_of_Jordan.svg',\n",
        "'https://upload.wikimedia.org/wikipedia/commons/a/aa/Flag_of_Kuwait.svg',\n",
        "'https://upload.wikimedia.org/wikipedia/commons/8/84/Flag_of_Latvia.svg',\n",
        "'https://upload.wikimedia.org/wikipedia/commons/9/9d/Flag_of_Arkansas.svg',\n",
        "'https://upload.wikimedia.org/wikipedia/commons/d/d4/Flag_of_Cyprus.svg',\n",
        "'https://upload.wikimedia.org/wikipedia/commons/5/5c/Flag_of_Greece.svg',\n",
        "'https://upload.wikimedia.org/wikipedia/commons/d/d9/Flag_of_Norway.svg',\n",
        "'https://upload.wikimedia.org/wikipedia/commons/a/ab/Flag_of_Panama.svg',\n",
        "'https://upload.wikimedia.org/wikipedia/commons/8/88/Flag_of_Australia_%28converted%29.svg',\n",
        "'https://upload.wikimedia.org/wikipedia/commons/d/d9/Flag_of_Canada_%28Pantone%29.svg',\n",
        "'https://upload.wikimedia.org/wikipedia/commons/d/d3/Flag_of_Kazakhstan.svg',\n",
        "'https://upload.wikimedia.org/wikipedia/commons/c/c7/Flag_of_Kyrgyzstan.svg',\n",
        "'https://upload.wikimedia.org/wikipedia/commons/5/56/Flag_of_Laos.svg',\n",
        "'https://upload.wikimedia.org/wikipedia/commons/f/fc/Flag_of_Mexico.svg',\n",
        "'https://upload.wikimedia.org/wikipedia/commons/8/8c/Flag_of_Myanmar.svg',\n",
        "'https://upload.wikimedia.org/wikipedia/commons/a/af/Flag_of_South_Africa.svg',\n",
        "'https://upload.wikimedia.org/wikipedia/commons/d/d0/Flag_of_Tajikistan.svg',\n",
        "'https://upload.wikimedia.org/wikipedia/commons/a/a9/Flag_of_Thailand.svg',\n",
        "'https://upload.wikimedia.org/wikipedia/commons/b/b4/Flag_of_Turkey.svg',\n",
        "'https://upload.wikimedia.org/wikipedia/commons/f/fa/Flag_of_the_People%27s_Republic_of_China.svg',\n",
        "'https://upload.wikimedia.org/wikipedia/commons/b/b8/Flag_of_Cornwall.svg',\n",
        "'https://upload.wikimedia.org/wikipedia/en/f/f3/Flag_of_Russia.svg',\n",
        "'https://upload.wikimedia.org/wikipedia/en/9/9e/Flag_of_Japan.svg',\n",
        "'https://upload.wikimedia.org/wikipedia/commons/4/47/Flag_of_Liechtenstein.svg',\n",
        "'https://upload.wikimedia.org/wikipedia/commons/1/11/Flag_of_Lithuania.svg',\n",
        "'https://upload.wikimedia.org/wikipedia/commons/d/da/Flag_of_Luxembourg.svg',\n",
        "'https://upload.wikimedia.org/wikipedia/commons/7/73/Flag_of_Malta.svg',\n",
        "'https://upload.wikimedia.org/wikipedia/commons/7/77/Flag_of_Mauritius.svg',\n",
        "'https://upload.wikimedia.org/wikipedia/commons/d/d0/Flag_of_Mozambique.svg',\n",
        "'https://upload.wikimedia.org/wikipedia/commons/3/3e/Flag_of_New_Zealand.svg',\n",
        "'https://upload.wikimedia.org/wikipedia/commons/7/79/Flag_of_North_Macedonia.svg',\n",
        "'https://upload.wikimedia.org/wikipedia/commons/d/d9/Flag_of_Norway.svg',\n",
        "'https://upload.wikimedia.org/wikipedia/commons/d/dd/Flag_of_Oman.svg',\n",
        "'https://upload.wikimedia.org/wikipedia/commons/5/5c/Flag_of_Portugal.svg',\n",
        "'https://upload.wikimedia.org/wikipedia/commons/6/65/Flag_of_Qatar.svg',\n",
        "'https://upload.wikimedia.org/wikipedia/commons/7/73/Flag_of_Romania.svg',\n",
        "'https://upload.wikimedia.org/wikipedia/commons/0/0d/Flag_of_Saudi_Arabia.svg',\n",
        "'https://upload.wikimedia.org/wikipedia/commons/f/ff/Flag_of_Serbia.svg',\n",
        "'https://upload.wikimedia.org/wikipedia/commons/f/fc/Flag_of_Seychelles.svg',\n",
        "'https://upload.wikimedia.org/wikipedia/commons/e/e6/Flag_of_Slovakia.svg',\n",
        "'https://upload.wikimedia.org/wikipedia/commons/f/f0/Flag_of_Slovenia.svg',\n",
        "'https://upload.wikimedia.org/wikipedia/commons/a/af/Flag_of_South_Africa.svg',\n",
        "'https://upload.wikimedia.org/wikipedia/commons/0/09/Flag_of_South_Korea.svg',\n",
        "'https://upload.wikimedia.org/wikipedia/commons/f/f3/Flag_of_Switzerland.svg',\n",
        "'https://upload.wikimedia.org/wikipedia/commons/b/b4/Flag_of_Turkey.svg',\n",
        "'https://upload.wikimedia.org/wikipedia/commons/f/fe/Flag_of_Uruguay.svg',\n",
        "'https://upload.wikimedia.org/wikipedia/commons/c/cb/Flag_of_the_Czech_Republic.svg',\n",
        "'https://upload.wikimedia.org/wikipedia/commons/2/20/Flag_of_the_Netherlands.svg',\n",
        "'https://upload.wikimedia.org/wikipedia/commons/f/fc/Flag_of_Seychelles.svg',\n",
        "'https://upload.wikimedia.org/wikipedia/commons/7/72/Flag_of_the_Republic_of_China.svg',\n",
        "'https://upload.wikimedia.org/wikipedia/en/b/ba/Flag_of_Germany.svg',\n",
        "'https://upload.wikimedia.org/wikipedia/commons/8/85/Pfeil_links.svg',\n",
        "'https://upload.wikimedia.org/wikipedia/commons/7/76/Pfeil_oben.svg',\n",
        "'https://upload.wikimedia.org/wikipedia/commons/c/c5/Pfeil_rechts.svg',\n",
        "'https://upload.wikimedia.org/wikipedia/commons/c/c3/Pfeil_unten.svg',\n",
        "'https://upload.wikimedia.org/wikipedia/en/0/05/Flag_of_Brazil.svg',\n",
        "'https://upload.wikimedia.org/wikipedia/en/c/c3/Flag_of_France.svg',\n",
        "'https://upload.wikimedia.org/wikipedia/commons/0/04/Flag_of_Gabon.svg',\n",
        "'https://upload.wikimedia.org/wikipedia/en/0/03/Flag_of_Italy.svg',\n",
        "'https://upload.wikimedia.org/wikipedia/en/1/12/Flag_of_Poland.svg',\n",
        "'https://upload.wikimedia.org/wikipedia/en/9/9a/Flag_of_Spain.svg',\n",
        "'https://upload.wikimedia.org/wikipedia/en/4/4c/Flag_of_Sweden.svg',\n",
        "'https://upload.wikimedia.org/wikipedia/en/a/ae/Flag_of_the_United_Kingdom.svg',\n",
        "'https://upload.wikimedia.org/wikipedia/commons/f/fe/Flag_of_Saint_Kitts_and_Nevis.svg',\n",
        "'https://upload.wikimedia.org/wikipedia/commons/9/9d/Flag_of_Arizona.svg',\n",
        "'https://upload.wikimedia.org/wikipedia/commons/2/27/Flag_of_Baja_California.svg',\n",
        "'https://upload.wikimedia.org/wikipedia/commons/0/01/Flag_of_California.svg',\n",
        "'https://upload.wikimedia.org/wikipedia/commons/4/46/Flag_of_Colorado.svg',\n",
        "'https://upload.wikimedia.org/wikipedia/commons/f/f5/Flag_of_Cross_of_Burgundy.svg',\n",
        "'https://upload.wikimedia.org/wikipedia/commons/f/f1/Flag_of_Nevada.svg',\n",
        "'https://upload.wikimedia.org/wikipedia/commons/c/c3/Flag_of_New_Mexico.svg',\n",
        "'https://upload.wikimedia.org/wikipedia/commons/6/69/Flag_of_Sonora.svg',\n",
        "'https://upload.wikimedia.org/wikipedia/commons/7/70/Flag_of_the_State_of_Utah.svg',\n",
        "'https://upload.wikimedia.org/wikipedia/commons/5/5c/Flag_of_Baden-W%C3%BCrttemberg.svg',\n",
        "'https://upload.wikimedia.org/wikipedia/commons/1/1f/Flag_of_Kosovo.svg',\n",
        "'https://upload.wikimedia.org/wikipedia/commons/5/53/Flag_of_Syria.svg',\n",
        "'https://upload.wikimedia.org/wikipedia/en/0/03/Flag_of_Italy.svg',\n",
        "'https://upload.wikimedia.org/wikipedia/en/1/12/Flag_of_Poland.svg',\n",
        "'https://upload.wikimedia.org/wikipedia/commons/e/ed/Flag_of_Guinea.svg',\n",
        "'https://upload.wikimedia.org/wikipedia/commons/9/99/Flag_of_Guyana.svg',\n",
        "'https://upload.wikimedia.org/wikipedia/commons/9/9f/Flag_of_Indonesia.svg',\n",
        "'https://upload.wikimedia.org/wikipedia/commons/0/0a/Flag_of_Jamaica.svg',\n",
        "'https://upload.wikimedia.org/wikipedia/commons/2/21/Flag_of_Vietnam.svg',\n",
        "'https://upload.wikimedia.org/wikipedia/commons/archive/b/b5/20210810162633%21Radioactive.svg',\n",
        "'https://upload.wikimedia.org/wikipedia/commons/archive/b/b5/20210730155829%21Radioactive.svg',\n",
        "'https://upload.wikimedia.org/wikipedia/commons/archive/b/b5/20201008113333%21Radioactive.svg',\n",
        "'https://upload.wikimedia.org/wikipedia/commons/archive/b/b5/20170417055323%21Radioactive.svg',\n",
        "'https://upload.wikimedia.org/wikipedia/commons/archive/b/b5/20150903090719%21Radioactive.svg',\n",
        "'https://upload.wikimedia.org/wikipedia/commons/archive/b/b5/20121027191728%21Radioactive.svg',\n",
        "'https://upload.wikimedia.org/wikipedia/commons/archive/b/b5/20070331090142%21Radioactive.svg',\n",
        "'https://upload.wikimedia.org/wikipedia/commons/archive/b/b5/20060120180222%21Radioactive.svg',\n",
        "'https://upload.wikimedia.org/wikipedia/commons/archive/b/b5/20060119161202%21Radioactive.svg',\n",
        "'https://upload.wikimedia.org/wikipedia/commons/archive/b/b5/20060119160714%21Radioactive.svg'\n",
        "'https://upload.wikimedia.org/wikipedia/commons/b/b1/Ambox_outdated_content.svg',\n",
        "'https://upload.wikimedia.org/wikipedia/en/9/9c/Symbol_file_class.svg',\n",
        "'https://upload.wikimedia.org/wikipedia/commons/7/75/DEU_Landau_in_der_Pfalz_COA.svg',\n",
        "'https://upload.wikimedia.org/wikipedia/commons/f/f4/Image-Blason_Colmar_68.svg',\n",
        "'https://upload.wikimedia.org/wikipedia/commons/d/dd/Greater_coat_of_arms_of_Strasbourg.svg',\n",
        "'https://upload.wikimedia.org/wikipedia/commons/2/2e/FRA_Obernai_67_COA.svg',\n",
        "'https://upload.wikimedia.org/wikipedia/commons/c/c7/Flag_of_Alsace.svg',\n",
        "'https://upload.wikimedia.org/wikipedia/commons/1/1a/Flag_of_Alsace_%28historical%29.svg',\n",
        "'https://upload.wikimedia.org/wikipedia/commons/f/f1/Flag_of_Alsace_%28old%29.svg',\n",
        "'https://upload.wikimedia.org/wikipedia/commons/4/42/Alsace_flag_waving_icon.svg',\n",
        "'https://upload.wikimedia.org/wikipedia/commons/d/df/Alsaceregionsnaturelles.jpg',\n",
        "'https://upload.wikimedia.org/wikipedia/commons/6/63/Arms_of_Alsace_%281663%29.svg',\n",
        "'https://upload.wikimedia.org/wikipedia/commons/c/c4/Arrondissements_Bas-Rhin.svg',\n",
        "'https://upload.wikimedia.org/wikipedia/commons/d/d2/Arrondissements_Haut-Rhin.svg',\n",
        "'https://upload.wikimedia.org/wikipedia/commons/3/3f/Banner_of_the_Holy_Roman_Emperor_%28after_1400%29.svg',\n",
        "'https://upload.wikimedia.org/wikipedia/commons/e/ee/BlasonAlsace.svg',\n",
        "'https://upload.wikimedia.org/wikipedia/commons/f/f8/Blason_Mulhouse.svg',\n",
        "'https://upload.wikimedia.org/wikipedia/commons/2/21/Blason_Rosheim_67.svg',\n",
        "'https://upload.wikimedia.org/wikipedia/commons/7/79/Blason_Wissembourg_67.svg',\n",
        "'https://upload.wikimedia.org/wikipedia/commons/b/be/Blason_de_la_ville_de_Kaysersberg_%2868%29.svg',\n",
        "'https://upload.wikimedia.org/wikipedia/commons/e/ec/Blason_de_la_ville_de_Munster_%2868%29.svg',\n",
        "'https://upload.wikimedia.org/wikipedia/commons/5/5e/Blason_de_la_ville_de_Turckheim_%2868%29.svg',\n",
        "'https://upload.wikimedia.org/wikipedia/commons/f/fa/Blason_haguenau_67.svg',\n",
        "'https://upload.wikimedia.org/wikipedia/commons/2/27/Blason_ville_fr_Seltz.svg',\n",
        "'https://upload.wikimedia.org/wikipedia/commons/5/5e/Blason_ville_fr_S%C3%A9lestat_%28Alsace%29.svg',\n",
        "'https://upload.wikimedia.org/wikipedia/commons/c/cc/Flag_of_Antofagasta_Region%2C_Chile.svg',\n",
        "'https://upload.wikimedia.org/wikipedia/commons/8/8b/Logotipo_de_la_Gobernaci%C3%B3n_de_El_Loa.svg',\n",
        "'https://upload.wikimedia.org/wikipedia/commons/1/1a/Mapa_loc_Antofagasta.svg',\n",
        "'https://upload.wikimedia.org/wikipedia/commons/6/6a/Provincia_de_El_Loa.svg',\n",
        "'https://upload.wikimedia.org/wikipedia/commons/0/0c/Red_pog.svg',\n",
        "'https://upload.wikimedia.org/wikipedia/commons/5/59/Seal_of_the_President_of_the_Philippines.svg',\n",
        "'https://upload.wikimedia.org/wikipedia/commons/3/35/Martial_arts_film_clapperboard.svg',\n",
        "'https://upload.wikimedia.org/wikipedia/commons/5/51/Star_full.svg',\n",
        "'https://upload.wikimedia.org/wikipedia/commons/8/81/Star_half.svg',\n",
        "'https://upload.wikimedia.org/wikipedia/commons/5/5c/Flag_of_Alabama.svg',\n",
        "'https://upload.wikimedia.org/wikipedia/commons/2/2e/Map_of_Alabama_highlighting_Jefferson_County.svg',\n",
        "'https://upload.wikimedia.org/wikipedia/commons/0/0c/Red_pog.svg',\n",
        "'https://upload.wikimedia.org/wikipedia/commons/9/93/USA_Alabama_location_map.svg',\n",
        "'https://upload.wikimedia.org/wikipedia/commons/2/20/Usa_edcp_location_map.svg',\n",
        "'https://upload.wikimedia.org/wikipedia/commons/9/9d/Cu-pourbaix-diagram.svg',\n",
        "'https://upload.wikimedia.org/wikipedia/commons/c/c9/Cubic-face-centered.svg',\n",
        "'https://upload.wikimedia.org/wikipedia/en/a/a4/Flag_of_the_United_States.svg',\n",
        "'https://upload.wikimedia.org/wikipedia/commons/6/6f/Colorado_geographic_map-en.svg',\n",
        "'https://upload.wikimedia.org/wikipedia/commons/6/60/Colorado_in_United_States.svg',\n",
        "'https://upload.wikimedia.org/wikipedia/en/archive/9/99/20210726203439%21Question_book-new.svg',\n",
        "'https://upload.wikimedia.org/wikipedia/en/archive/9/99/20201004174738%21Question_book-new.svg',\n",
        "'https://upload.wikimedia.org/wikipedia/en/archive/9/99/20171208221057%21Question_book-new.svg',\n",
        "'https://upload.wikimedia.org/wikipedia/en/archive/9/99/20171207131032%21Question_book-new.svg',\n",
        "'https://upload.wikimedia.org/wikipedia/en/archive/9/99/20160612140736%21Question_book-new.svg',\n",
        "'https://upload.wikimedia.org/wikipedia/commons/2/29/Books-aj.svg_aj_ashton_01b.svg',\n",
        "'https://upload.wikimedia.org/wikipedia/en/e/e2/Symbol_portal_class.svg',\n",
        "'https://upload.wikimedia.org/wikipedia/commons/4/49/Star_empty.svg',\n",
        "'https://upload.wikimedia.org/wikipedia/commons/5/51/Star_full.svg',\n",
        "'https://upload.wikimedia.org/wikipedia/commons/a/a8/Maldonado_in_Uruguay.svg',\n",
        "'https://upload.wikimedia.org/wikipedia/commons/0/0c/Red_pog.svg',\n",
        "'https://upload.wikimedia.org/wikipedia/commons/c/c5/Uruguay_location_map.svg',\n",
        "'https://upload.wikimedia.org/wikipedia/commons/4/49/Star_empty.svg',\n",
        "'https://upload.wikimedia.org/wikipedia/commons/5/51/Star_full.svg',\n",
        "'https://upload.wikimedia.org/wikipedia/commons/8/81/Star_half.svg',\n",
        "'https://upload.wikimedia.org/wikipedia/commons/7/70/Bandera_de_la_Ciudad_de_Maldonado.svg',\n",
        "'https://upload.wikimedia.org/wikipedia/commons/0/0c/Red_pog.svg',\n",
        "'https://upload.wikimedia.org/wikipedia/en/a/a4/Flag_of_the_United_States.svg',\n",
        "'https://upload.wikimedia.org/wikipedia/commons/e/ea/Chihuahua_en_Chihuahua.svg',\n",
        "'https://upload.wikimedia.org/wikipedia/commons/a/ae/Chihuahua_en_M%C3%A9xico.svg',\n",
        "'https://upload.wikimedia.org/wikipedia/commons/a/ab/Flag_of_Chihuahua%2C_Chihuahua.svg',\n",
        "'https://upload.wikimedia.org/wikipedia/commons/1/1b/Flag_of_Chihuahua.svg',\n",
        "'https://upload.wikimedia.org/wikipedia/commons/5/5c/PAN_logo_%28Mexico%29.svg',\n",
        "'https://upload.wikimedia.org/wikipedia/commons/5/5c/PAN_logo_%28Mexico%29.svg',\n",
        "'https://upload.wikimedia.org/wikipedia/commons/7/79/Map_of_Indiana_highlighting_Dubois_County.svg',\n",
        "'https://upload.wikimedia.org/wikipedia/commons/0/0c/Red_pog.svg',\n",
        "'https://upload.wikimedia.org/wikipedia/commons/3/3f/USA_Indiana_location_map.svg',\n",
        "'https://upload.wikimedia.org/wikipedia/commons/2/20/Usa_edcp_location_map.svg',\n",
        "'https://upload.wikimedia.org/wikipedia/commons/d/d6/TOSC_Order_of_Santo_Stefano_BAR.svg',\n",
        "'https://upload.wikimedia.org/wikipedia/commons/e/eb/Teutonic_Order_BAR.svg',\n",
        "'https://upload.wikimedia.org/wikipedia/commons/0/04/VA_Ordine_Piano_BAR.svg',\n",
        "'https://upload.wikimedia.org/wikipedia/commons/3/30/Cavaliere_BAR.svg',\n",
        "'https://upload.wikimedia.org/wikipedia/commons/d/d6/Cavaliere_OCI_BAR.svg',\n",
        "'https://upload.wikimedia.org/wikipedia/commons/9/9c/Cavaliere_OML_BAR.svg',\n",
        "'https://upload.wikimedia.org/wikipedia/commons/d/dc/Cavaliere_OMRI_BAR.svg',\n",
        "'https://upload.wikimedia.org/wikipedia/commons/c/c0/Cavaliere_SSML_BAR.svg',\n",
        "'https://upload.wikimedia.org/wikipedia/commons/0/00/Flag_of_the_Vatican_City.svg',\n",
        "'https://upload.wikimedia.org/wikipedia/commons/7/79/P_christianity.svg',\n",
        "'https://upload.wikimedia.org/wikipedia/commons/b/bb/SPQRomani.svg',\n",
        "'https://upload.wikimedia.org/wikipedia/en/6/69/P_vip.svg',\n",
        "'https://upload.wikimedia.org/wikipedia/commons/4/48/Gloriole_blur.svg',\n",
        "'https://upload.wikimedia.org/wikipedia/commons/7/79/P_christianity.svg',\n",
        "'https://upload.wikimedia.org/wikipedia/commons/4/48/P_history.svg',\n",
        "'https://upload.wikimedia.org/wikipedia/en/e/e2/Symbol_portal_class.svg',\n",
        "'https://upload.wikimedia.org/wikipedia/commons/1/1f/Escudo_de_Calama.svg',\n",
        "'https://upload.wikimedia.org/wikipedia/commons/f/f6/Chile_location_map.svg',\n",
        "'https://upload.wikimedia.org/wikipedia/commons/c/c5/Comuna_de_Calama.svg',\n",
        "'https://upload.wikimedia.org/wikipedia/commons/9/98/Tree_template.svg',\n",
        "'https://upload.wikimedia.org/wikipedia/commons/0/03/Rhombohedral.svg',\n",
        "'https://upload.wikimedia.org/wikipedia/commons/7/79/Bismuth_symbol.svg'\n",
        "]"
      ]
    },
    {
      "cell_type": "code",
      "execution_count": 18,
      "metadata": {
        "id": "yMZch9agsz01"
      },
      "outputs": [],
      "source": [
        "# Criaremos um laço de comparação entre a lista de url e a lista de termos para excluir os termos indesejados\n",
        "\n",
        "for i in range (0, len(url_img)):\n",
        "\n",
        " for attempt in range(0, 3):\n",
        "  \n",
        "  try:\n",
        "\n",
        "    for a in range (0, len(url_img[i])):\n",
        "\n",
        "      for term in range (0, len(terms)):\n",
        "\n",
        "        if url_img[i][a] == terms[term]:\n",
        "\n",
        "         del(url_img[i][a])\n",
        "\n",
        "  except:\n",
        "\n",
        "      pass"
      ]
    },
    {
      "cell_type": "markdown",
      "metadata": {
        "id": "DMIPu7ACUW_q"
      },
      "source": [
        "A segunda maneira é um pouco mais inteligente. Passaremos todos os elementos da lista url_img para uma outra lista urls e eliminaremos elementos repetidos"
      ]
    },
    {
      "cell_type": "code",
      "execution_count": 19,
      "metadata": {
        "id": "OcJaX5UICFSg"
      },
      "outputs": [],
      "source": [
        "# Podemos separar todos esses elementos e colocar dentro de uma lista\n",
        "\n",
        "urls = []\n",
        "\n",
        "\n",
        "for objects in range (0, len(url_img)):\n",
        "  for element in range (0, len(url_img[objects])):\n",
        "    urls.append(url_img[objects][element])"
      ]
    },
    {
      "cell_type": "code",
      "execution_count": 20,
      "metadata": {
        "id": "XL0XNbpYFIuj"
      },
      "outputs": [],
      "source": [
        "# Iremos ordenar e remover os termos repetidos da lista\n",
        "\n",
        "set_url = sorted(set(urls))\n",
        "list_url = list(set_url)\n",
        "\n",
        "#len(set_url)"
      ]
    },
    {
      "cell_type": "markdown",
      "metadata": {
        "id": "RPJyhKrIUxaP"
      },
      "source": [
        "## **Criando dataframe**"
      ]
    },
    {
      "cell_type": "code",
      "execution_count": 21,
      "metadata": {
        "id": "8yDtrUVDD9lk"
      },
      "outputs": [],
      "source": [
        "# Criando os dataframes\n",
        "\n",
        "df_urls01 = pd.DataFrame(list_url, columns=['url'])\n",
        "df_urls02 = pd.DataFrame(url_img)"
      ]
    },
    {
      "cell_type": "code",
      "source": [
        "# Baixando os dataframes\n",
        "\n",
        "df_urls01.to_csv(\"url_images_01.csv\", sep =',', index=False)\n",
        "df_urls02.to_csv(\"url_images_02.csv\", sep =',', index=False)"
      ],
      "metadata": {
        "id": "mILPWP2Jj2Fq"
      },
      "execution_count": 24,
      "outputs": []
    }
  ],
  "metadata": {
    "colab": {
      "name": "Aula_WS_02.ipynb",
      "provenance": [],
      "authorship_tag": "ABX9TyMJwnUR2CGl4huuHTwwKYmG",
      "include_colab_link": true
    },
    "kernelspec": {
      "display_name": "Python 3",
      "name": "python3"
    },
    "language_info": {
      "name": "python"
    }
  },
  "nbformat": 4,
  "nbformat_minor": 0
}