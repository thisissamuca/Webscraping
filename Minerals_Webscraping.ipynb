{
  "cells": [
    {
      "cell_type": "markdown",
      "metadata": {
        "id": "view-in-github",
        "colab_type": "text"
      },
      "source": [
        "<a href=\"https://colab.research.google.com/github/thisissamuca/Webscraping/blob/main/Minerals_Webscraping.ipynb\" target=\"_parent\"><img src=\"https://colab.research.google.com/assets/colab-badge.svg\" alt=\"Open In Colab\"/></a>"
      ]
    },
    {
      "cell_type": "markdown",
      "source": [
        "# **Instalando bibliotecas necessárias**"
      ],
      "metadata": {
        "id": "VbTgtUrvfFrx"
      }
    },
    {
      "cell_type": "code",
      "execution_count": null,
      "metadata": {
        "colab": {
          "base_uri": "https://localhost:8080/"
        },
        "id": "4ggqNRjTwr5-",
        "outputId": "e4e9f134-7ebd-4ba7-c19f-2b35d90ae649"
      },
      "outputs": [
        {
          "output_type": "stream",
          "name": "stdout",
          "text": [
            "Looking in indexes: https://pypi.org/simple, https://us-python.pkg.dev/colab-wheels/public/simple/\n",
            "Requirement already satisfied: requests in /usr/local/lib/python3.7/dist-packages (2.23.0)\n",
            "Requirement already satisfied: idna<3,>=2.5 in /usr/local/lib/python3.7/dist-packages (from requests) (2.10)\n",
            "Requirement already satisfied: urllib3!=1.25.0,!=1.25.1,<1.26,>=1.21.1 in /usr/local/lib/python3.7/dist-packages (from requests) (1.24.3)\n",
            "Requirement already satisfied: chardet<4,>=3.0.2 in /usr/local/lib/python3.7/dist-packages (from requests) (3.0.4)\n",
            "Requirement already satisfied: certifi>=2017.4.17 in /usr/local/lib/python3.7/dist-packages (from requests) (2022.6.15)\n"
          ]
        }
      ],
      "source": [
        "pip install requests"
      ]
    },
    {
      "cell_type": "code",
      "execution_count": null,
      "metadata": {
        "colab": {
          "base_uri": "https://localhost:8080/"
        },
        "id": "fQcgv2efwvCC",
        "outputId": "fb0281a0-5c70-4cd5-accd-5ee1dd64a8af"
      },
      "outputs": [
        {
          "name": "stdout",
          "output_type": "stream",
          "text": [
            "Looking in indexes: https://pypi.org/simple, https://us-python.pkg.dev/colab-wheels/public/simple/\n",
            "Requirement already satisfied: beautifulsoup4 in /usr/local/lib/python3.7/dist-packages (4.6.3)\n"
          ]
        }
      ],
      "source": [
        "pip install beautifulsoup4"
      ]
    },
    {
      "cell_type": "markdown",
      "source": [
        "# **Importando bibliotecas**"
      ],
      "metadata": {
        "id": "WfsY3tsBfJZc"
      }
    },
    {
      "cell_type": "code",
      "execution_count": 7,
      "metadata": {
        "id": "0YFUyf5dww_f"
      },
      "outputs": [],
      "source": [
        "import requests\n",
        "import json\n",
        "import pandas as pd\n",
        "from bs4 import BeautifulSoup\n",
        "import random\n",
        "import time\n",
        "import re\n",
        "import time\n",
        "import urllib.request\n",
        "import sys\n",
        "from collections import Counter\n",
        "from urllib.request import Request, urlopen\n",
        "from google.colab import drive"
      ]
    },
    {
      "cell_type": "code",
      "execution_count": 232,
      "metadata": {
        "colab": {
          "base_uri": "https://localhost:8080/"
        },
        "id": "gIcKHPstw0GA",
        "outputId": "2e48d1f2-d597-470f-e3e4-1dfb451f11e0"
      },
      "outputs": [
        {
          "output_type": "stream",
          "name": "stdout",
          "text": [
            "Mounted at /content/drive\n"
          ]
        }
      ],
      "source": [
        "drive.mount('/content/drive')"
      ]
    },
    {
      "cell_type": "code",
      "source": [
        "title = []\n",
        "photo = []\n",
        "name = []\n",
        "endereco = []\n",
        "requests = []\n",
        "img_tag = []\n",
        "text = []\n",
        "id = []\n",
        "round = []\n",
        "img = []\n",
        "listaNomes = []\n",
        "nomesFrequentes = []\n",
        "indice = []\n",
        "target = []\n",
        "numeration = []"
      ],
      "metadata": {
        "id": "hRQ-2FhMpEbl"
      },
      "execution_count": 4,
      "outputs": []
    },
    {
      "cell_type": "code",
      "source": [
        "title.clear()\n",
        "photo.clear()\n",
        "name.clear()\n",
        "endereco.clear()\n",
        "requests.clear()\n",
        "img_tag.clear()\n",
        "id.clear()\n",
        "listaNomes.clear()\n",
        "nomesFrequentes.clear()\n",
        "indice.clear()\n",
        "target.clear()\n",
        "numeration.clear()"
      ],
      "metadata": {
        "id": "9_vm_Xwxo1DE"
      },
      "execution_count": 5,
      "outputs": []
    },
    {
      "cell_type": "markdown",
      "source": [
        "# **Baixador de imagens de minerais e rochas**"
      ],
      "metadata": {
        "id": "-IvXfwXgfNI1"
      }
    },
    {
      "cell_type": "code",
      "execution_count": 239,
      "metadata": {
        "id": "nKi7iVZIw5Bf"
      },
      "outputs": [],
      "source": [
        "def baixador_imagem(i, j):\n",
        "\n",
        "  for index in range (i, j):\n",
        "\n",
        "    #print(f'começamos em 50000... Estamos em {index+1}... Numeração atual: {50251 - index+1}')\n",
        "\n",
        "    endereco = f'https://www.mindat.org/photo-{index}.html'\n",
        "\n",
        "    requisition = Request(endereco, headers={'User-Agent': 'Mozilla/5.0'})\n",
        "\n",
        "    try:\n",
        "\n",
        "      webpage = urlopen(requisition,timeout=20).read()\n",
        "\n",
        "      soup = BeautifulSoup(webpage, 'html.parser')\n",
        "\n",
        "      img_tag = repr(soup.find(id=\"mainphoto\"))\n",
        "\n",
        "      img.append(img_tag)\n",
        "\n",
        "      text = soup.find_all('a')[1].text\n",
        "\n",
        "      title.append(text)\n",
        "\n",
        "      df = pd.DataFrame((zip(title, img)), columns = ['Name', 'Url']).drop_duplicates()\n",
        "\n",
        "      list_df = df.values.tolist()\n",
        "\n",
        "      if re.search(r'photos', list_df[0][1]):\n",
        "\n",
        "        alt_01b = re.sub(r'.*src=\"', 'https://www.mindat.org/', list_df[0][1], count=1)\n",
        "        alt_02b = re.sub(r'\" ..*>', '', alt_01b, count=1)\n",
        "        name.append(list_df[0][0])\n",
        "        photo.append(alt_02b)\n",
        "\n",
        "      elif re.search(r'imagecache', list_df[0][1]):\n",
        "\n",
        "        alt_01a = re.sub(r'.*src=\"', 'https://www.mindat.org', list_df[0][1], count=1)\n",
        "        alt_02a = re.sub(r'\" ..*>', '', alt_01a, count=1)\n",
        "        name.append(list_df[0][0])\n",
        "        photo.append(alt_02a)\n",
        "\n",
        "      df02 = pd.DataFrame((zip(name, photo)), columns = ['Name', 'Url'])\n",
        "\n",
        "      list_df02 = df02.values.tolist()\n",
        "\n",
        "      try:\n",
        "      \n",
        "        sub = re.sub(r'.jpg', '', list_df02[0][1], count=1)[-7::]\n",
        "        #urllib.request.urlretrieve(f'{list_df02[0][1]}', f'drive/MyDrive/PHOTOS/EAIPI_{list_df02[0][0]}_{sub}.jpg')\n",
        "        urllib.request.urlretrieve(f'{list_df02[0][1]}', f'/content/drive/MyDrive/dataset_ML_01/mineral_{i}.jpg')\n",
        "\n",
        "      except:\n",
        "      \n",
        "        #erro = sys.exc_info()\n",
        "        #print(\"Ocorreu um erro:\", erro)\n",
        "\n",
        "        pass\n",
        "\n",
        "      title.clear()\n",
        "\n",
        "      img.clear()\n",
        "\n",
        "      photo.clear()\n",
        "\n",
        "      name.clear()\n",
        "\n",
        "    except:\n",
        "\n",
        "      pass\n",
        "\n",
        "baixador_imagem(50000, 50005)"
      ]
    },
    {
      "cell_type": "markdown",
      "source": [
        "# **Gerador de dataframe**"
      ],
      "metadata": {
        "id": "ZLH4L6MIgrPg"
      }
    },
    {
      "cell_type": "code",
      "source": [
        "for index in range (90000, 100000):\n",
        "\n",
        "  #print(f'começamos em 900000... Estamos em {index+1}... Numeração atual: {index+1 - 900000}')\n",
        "    \n",
        "  endereco.append(f'https://www.mindat.org/photo-{index}.html')\n",
        "\n",
        "for j in range (0, len(endereco)):\n",
        "\n",
        "  req = Request(endereco[j], headers={'User-Agent': 'Mozilla/5.0'})\n",
        "\n",
        "  requests.append(req)\n",
        "\n",
        "for i in range (0, len(endereco)):\n",
        "\n",
        "  try:\n",
        "\n",
        "      webpage = urlopen(requests[i], timeout=20)\n",
        "\n",
        "      soup = BeautifulSoup(webpage, 'html.parser')\n",
        "\n",
        "      img_tag.append(repr(soup.find(id=\"mainphoto\")))\n",
        "\n",
        "      title.append(soup.find_all('a')[1].text)\n",
        "\n",
        "  except:\n",
        "    \n",
        "    pass\n",
        "\n",
        "df = pd.DataFrame((zip(title, img_tag)), columns = ['Name', 'Url']).drop_duplicates()\n",
        "\n",
        "list_df = df.values.tolist()\n",
        "\n",
        "for l in range (0, len(list_df)):\n",
        "\n",
        "  if re.search(r'photos', list_df[l][1]):\n",
        "\n",
        "    alt_01b = re.sub(r'.*src=\"', 'https://www.mindat.org/', list_df[l][1], count=1)\n",
        "    alt_02b = re.sub(r'\" ..*>', '', alt_01b, count=1)\n",
        "    name.append(list_df[l][0])\n",
        "    photo.append(alt_02b)\n",
        "\n",
        "    sub = re.sub(r'.jpg', '', alt_02b, count=1)[-7::]\n",
        "    id.append(sub)\n",
        "\n",
        "  elif re.search(r'imagecache', list_df[l][1]):\n",
        "\n",
        "    alt_01a = re.sub(r'.*src=\"', 'https://www.mindat.org', list_df[l][1], count=1)\n",
        "    alt_02a = re.sub(r'\" ..*>', '', alt_01a, count=1)\n",
        "    name.append(list_df[l][0])\n",
        "    photo.append(alt_02a)\n",
        "\n",
        "    sub = re.sub(r'.jpg', '', alt_02a, count=1)[-7::]\n",
        "    id.append(sub)\n",
        "\n",
        "df02 = pd.DataFrame((zip(name, photo, id)), columns = ['Name', 'Url', 'ID']).drop_duplicates()\n",
        "\n",
        "list_df02 = df02.values.tolist()\n",
        "\n",
        "round.append(int(1))\n",
        "\n",
        "for number in range (sum(round), sum(round) + 1):\n",
        "\n",
        "  df02.to_csv(f\"images_minerals_{number}.csv\", sep =',', index=False)"
      ],
      "metadata": {
        "id": "adJ2Vk_xRaq7"
      },
      "execution_count": null,
      "outputs": []
    },
    {
      "cell_type": "markdown",
      "source": [
        "# **Obtendo minerais específicos dentro do dataframe**"
      ],
      "metadata": {
        "id": "721KAI810JSd"
      }
    },
    {
      "cell_type": "code",
      "source": [
        "# Obtendo o nome dos minerais no dataframe\n",
        "\n",
        "for i in range(len(list_df02)):\n",
        "\n",
        "  listaNomes.append(list_df02[i][0])\n",
        "\n",
        "print(listaNomes)\n",
        "\n",
        "# ----"
      ],
      "metadata": {
        "colab": {
          "base_uri": "https://localhost:8080/",
          "height": 246
        },
        "id": "hY4YvCiWk4DU",
        "outputId": "8d0a0ff9-c220-4e80-d9aa-87dc03f7f71d"
      },
      "execution_count": 1,
      "outputs": [
        {
          "output_type": "error",
          "ename": "NameError",
          "evalue": "ignored",
          "traceback": [
            "\u001b[0;31m---------------------------------------------------------------------------\u001b[0m",
            "\u001b[0;31mNameError\u001b[0m                                 Traceback (most recent call last)",
            "\u001b[0;32m<ipython-input-1-28223fd72b63>\u001b[0m in \u001b[0;36m<module>\u001b[0;34m\u001b[0m\n\u001b[1;32m      1\u001b[0m \u001b[0;31m# Obtendo o nome dos minerais no dataframe\u001b[0m\u001b[0;34m\u001b[0m\u001b[0;34m\u001b[0m\u001b[0;34m\u001b[0m\u001b[0m\n\u001b[1;32m      2\u001b[0m \u001b[0;34m\u001b[0m\u001b[0m\n\u001b[0;32m----> 3\u001b[0;31m \u001b[0;32mfor\u001b[0m \u001b[0mi\u001b[0m \u001b[0;32min\u001b[0m \u001b[0mrange\u001b[0m\u001b[0;34m(\u001b[0m\u001b[0mlen\u001b[0m\u001b[0;34m(\u001b[0m\u001b[0mlist_df02\u001b[0m\u001b[0;34m)\u001b[0m\u001b[0;34m)\u001b[0m\u001b[0;34m:\u001b[0m\u001b[0;34m\u001b[0m\u001b[0;34m\u001b[0m\u001b[0m\n\u001b[0m\u001b[1;32m      4\u001b[0m \u001b[0;34m\u001b[0m\u001b[0m\n\u001b[1;32m      5\u001b[0m   \u001b[0mlistaNomes\u001b[0m\u001b[0;34m.\u001b[0m\u001b[0mappend\u001b[0m\u001b[0;34m(\u001b[0m\u001b[0mlist_df02\u001b[0m\u001b[0;34m[\u001b[0m\u001b[0mi\u001b[0m\u001b[0;34m]\u001b[0m\u001b[0;34m[\u001b[0m\u001b[0;36m0\u001b[0m\u001b[0;34m]\u001b[0m\u001b[0;34m)\u001b[0m\u001b[0;34m\u001b[0m\u001b[0;34m\u001b[0m\u001b[0m\n",
            "\u001b[0;31mNameError\u001b[0m: name 'list_df02' is not defined"
          ]
        }
      ]
    },
    {
      "cell_type": "code",
      "source": [
        "# Obtendo os TOP 5 elementos mais frequentes\n",
        "\n",
        "frequencias = Counter(listaNomes).most_common()\n",
        "\n",
        "for j in range(0,6):\n",
        "\n",
        "  #mais_frequente, menos_frequente = frequencias[j], frequencias[-j - 1]\n",
        "\n",
        "  mais_frequente = frequencias[j]\n",
        "\n",
        "  nomesFrequentes.append(list(mais_frequente))\n",
        "\n",
        "print(nomesFrequentes)\n",
        "\n",
        "# ----"
      ],
      "metadata": {
        "colab": {
          "base_uri": "https://localhost:8080/"
        },
        "id": "7GFpN4lDk7DT",
        "outputId": "f74ef0ae-fd0b-4a96-835b-8190faa81fa4"
      },
      "execution_count": 285,
      "outputs": [
        {
          "output_type": "stream",
          "name": "stdout",
          "text": [
            "[['Quartz', 3], ['Fluorite', 2], ['Cassiterite', 2], ['Thomsonite-Ca', 2], ['Sphalerite', 1], ['Pearceite', 1]]\n"
          ]
        }
      ]
    },
    {
      "cell_type": "code",
      "source": [
        "# Adquirindo o indice dos elementos em questão\n",
        "\n",
        "for k in range(len(listaNomes)):\n",
        "\n",
        "  if listaNomes[k] == nomesFrequentes[0][0]:\n",
        "\n",
        "    indice.append(k)\n",
        "\n",
        "print(indice)\n",
        "\n",
        "# ----"
      ],
      "metadata": {
        "colab": {
          "base_uri": "https://localhost:8080/"
        },
        "id": "Yb7_Q3Sylojp",
        "outputId": "e9fc9cb8-4249-47fe-c3f4-0afd73968c43"
      },
      "execution_count": 286,
      "outputs": [
        {
          "output_type": "stream",
          "name": "stdout",
          "text": [
            "[8, 13, 14]\n"
          ]
        }
      ]
    },
    {
      "cell_type": "code",
      "source": [
        "# Concatenando os alvos\n",
        "\n",
        "for i in range(len(indice)):\n",
        "\n",
        "  target.append([list_df02[indice[i]][0],list_df02[indice[i]][2]])\n",
        "\n",
        "print(target)\n",
        "\n",
        "# ----"
      ],
      "metadata": {
        "colab": {
          "base_uri": "https://localhost:8080/"
        },
        "id": "iHL7XH-JlvVX",
        "outputId": "5b251867-48db-4d17-f62b-431187e81f79"
      },
      "execution_count": 288,
      "outputs": [
        {
          "output_type": "stream",
          "name": "stdout",
          "text": [
            "[['Quartz', '5339200'], ['Quartz', '5361198'], ['Quartz', '6056296']]\n"
          ]
        }
      ]
    },
    {
      "cell_type": "code",
      "source": [
        "# Obtendo o link\n",
        "\n",
        "for i in range(len(list_df)):\n",
        "\n",
        "  for j in range(len(target)):\n",
        "\n",
        "    if re.search(f'{target[j][1]}', list_df[i][1]):\n",
        "      \n",
        "      numeration.append( 'https://www.mindat.org/photos/' + re.sub(r'.*photos/*', '', list_df02[i][1], count=1))\n",
        "\n",
        "print(numeration)\n",
        "\n",
        "# ----"
      ],
      "metadata": {
        "colab": {
          "base_uri": "https://localhost:8080/"
        },
        "id": "EeJ1awLYly-P",
        "outputId": "b54dec82-5aa4-42bb-85d4-81939f3af705"
      },
      "execution_count": 289,
      "outputs": [
        {
          "output_type": "stream",
          "name": "stdout",
          "text": [
            "['https://www.mindat.org/photos/https://www.mindat.org/imagecache/f5/51/00335700015001652978110.jpg', 'https://www.mindat.org/photos/970/15/0970157001236056296.jpg', 'https://www.mindat.org/photos/006/25/0006251001155367304.jpg']\n"
          ]
        }
      ]
    },
    {
      "cell_type": "code",
      "source": [
        "# Baixando imagens\n",
        "\n",
        "for i in range(len(numeration[0:3])):\n",
        "\n",
        "  try:\n",
        "\n",
        "    urllib.request.urlretrieve(f'{numeration[i]}', f'/content/drive/MyDrive/dataset_ML_01/mineral_a{i}.jpg')\n",
        "\n",
        "  except:\n",
        "\n",
        "    pass\n",
        "\n",
        "# ----"
      ],
      "metadata": {
        "id": "kRliPbcMmQSG"
      },
      "execution_count": 290,
      "outputs": []
    }
  ],
  "metadata": {
    "colab": {
      "provenance": [],
      "authorship_tag": "ABX9TyNxNwuwiSzgZxbUu3pyytOJ",
      "include_colab_link": true
    },
    "kernelspec": {
      "display_name": "Python 3",
      "name": "python3"
    },
    "language_info": {
      "name": "python"
    }
  },
  "nbformat": 4,
  "nbformat_minor": 0
}